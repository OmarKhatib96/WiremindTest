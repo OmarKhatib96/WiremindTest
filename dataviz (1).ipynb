{
  "nbformat": 4,
  "nbformat_minor": 0,
  "metadata": {
    "colab": {
      "name": "dataviz.ipynb",
      "provenance": [],
      "collapsed_sections": []
    },
    "kernelspec": {
      "name": "python3",
      "display_name": "Python 3"
    },
    "language_info": {
      "name": "python"
    }
  },
  "cells": [
    {
      "cell_type": "code",
      "metadata": {
        "colab": {
          "base_uri": "https://localhost:8080/"
        },
        "id": "-q1WdqyyEUF1",
        "outputId": "5ca85fc9-465a-472f-b2c3-239629753386"
      },
      "source": [
        "!pip install lz4"
      ],
      "execution_count": 2,
      "outputs": [
        {
          "output_type": "stream",
          "name": "stdout",
          "text": [
            "Collecting lz4\n",
            "  Downloading lz4-3.1.3-cp37-cp37m-manylinux2010_x86_64.whl (1.8 MB)\n",
            "\u001b[K     |████████████████████████████████| 1.8 MB 5.2 MB/s \n",
            "\u001b[?25hInstalling collected packages: lz4\n",
            "Successfully installed lz4-3.1.3\n"
          ]
        }
      ]
    },
    {
      "cell_type": "code",
      "metadata": {
        "id": "egOQJzkgrzkO"
      },
      "source": [
        "import os\n",
        "import lz4\n",
        "import matplotlib.pylab as plt\n",
        "from io import BytesIO\n",
        "import pandas as pd\n",
        "import seaborn as sns\n"
      ],
      "execution_count": 3,
      "outputs": []
    },
    {
      "cell_type": "code",
      "metadata": {
        "id": "pHo6Q90JEbkT"
      },
      "source": [
        "bytes_data=None\n",
        "chunk_list=[]\n",
        "from lz4 import frame\n",
        "\n",
        "with frame.open('train.lz4', mode='r') as fp:\n",
        "  chunk_size=1024*28*28\n",
        "  output_data = fp.read(size=chunk_size)\n",
        "  df_chunk=pd.read_csv(BytesIO(output_data))\n",
        "  chunk_list.append(df_chunk)\n",
        "\n",
        "df_test_concat = pd.concat(chunk_list)\n"
      ],
      "execution_count": 4,
      "outputs": []
    },
    {
      "cell_type": "code",
      "metadata": {
        "id": "bS2zP_xXVDXh"
      },
      "source": [
        ""
      ],
      "execution_count": 4,
      "outputs": []
    },
    {
      "cell_type": "code",
      "metadata": {
        "id": "nt3n24tUKBSH"
      },
      "source": [
        "df=df_test_concat\n"
      ],
      "execution_count": 5,
      "outputs": []
    },
    {
      "cell_type": "code",
      "metadata": {
        "colab": {
          "base_uri": "https://localhost:8080/",
          "height": 309
        },
        "id": "e-XlPzkhuHVH",
        "outputId": "8c17b78d-c333-473e-d1ce-5fff206c4567"
      },
      "source": [
        "df.head()\n"
      ],
      "execution_count": 6,
      "outputs": [
        {
          "output_type": "execute_result",
          "data": {
            "text/html": [
              "<div>\n",
              "<style scoped>\n",
              "    .dataframe tbody tr th:only-of-type {\n",
              "        vertical-align: middle;\n",
              "    }\n",
              "\n",
              "    .dataframe tbody tr th {\n",
              "        vertical-align: top;\n",
              "    }\n",
              "\n",
              "    .dataframe thead th {\n",
              "        text-align: right;\n",
              "    }\n",
              "</style>\n",
              "<table border=\"1\" class=\"dataframe\">\n",
              "  <thead>\n",
              "    <tr style=\"text-align: right;\">\n",
              "      <th></th>\n",
              "      <th>dataset_type</th>\n",
              "      <th>demand</th>\n",
              "      <th>departure_date</th>\n",
              "      <th>destination_current_public_holiday</th>\n",
              "      <th>destination_current_school_holiday</th>\n",
              "      <th>destination_days_to_next_public_holiday</th>\n",
              "      <th>destination_days_to_next_school_holiday</th>\n",
              "      <th>destination_station_name</th>\n",
              "      <th>od_destination_time</th>\n",
              "      <th>od_number_of_similar_12_hours</th>\n",
              "      <th>od_number_of_similar_2_hours</th>\n",
              "      <th>od_number_of_similar_4_hours</th>\n",
              "      <th>od_origin_month</th>\n",
              "      <th>od_origin_time</th>\n",
              "      <th>od_origin_week</th>\n",
              "      <th>od_origin_weekday</th>\n",
              "      <th>od_origin_year</th>\n",
              "      <th>od_travel_time_minutes</th>\n",
              "      <th>origin_current_public_holiday</th>\n",
              "      <th>origin_current_school_holiday</th>\n",
              "      <th>origin_days_to_next_public_holiday</th>\n",
              "      <th>origin_days_to_next_school_holiday</th>\n",
              "      <th>origin_station_name</th>\n",
              "      <th>price</th>\n",
              "      <th>sale_date</th>\n",
              "      <th>sale_day</th>\n",
              "      <th>sale_day_x</th>\n",
              "      <th>sale_month</th>\n",
              "      <th>sale_week</th>\n",
              "      <th>sale_weekday</th>\n",
              "      <th>sale_year</th>\n",
              "    </tr>\n",
              "  </thead>\n",
              "  <tbody>\n",
              "    <tr>\n",
              "      <th>0</th>\n",
              "      <td>training</td>\n",
              "      <td>1</td>\n",
              "      <td>2019-03-01</td>\n",
              "      <td>0</td>\n",
              "      <td>1</td>\n",
              "      <td>52</td>\n",
              "      <td>-13</td>\n",
              "      <td>ag</td>\n",
              "      <td>1088</td>\n",
              "      <td>5</td>\n",
              "      <td>1</td>\n",
              "      <td>2</td>\n",
              "      <td>3</td>\n",
              "      <td>922</td>\n",
              "      <td>9</td>\n",
              "      <td>4</td>\n",
              "      <td>2019</td>\n",
              "      <td>166</td>\n",
              "      <td>0</td>\n",
              "      <td>1</td>\n",
              "      <td>52</td>\n",
              "      <td>-6</td>\n",
              "      <td>cpe</td>\n",
              "      <td>26.65</td>\n",
              "      <td>2018-12-02</td>\n",
              "      <td>2</td>\n",
              "      <td>-89.0</td>\n",
              "      <td>12.0</td>\n",
              "      <td>6.0</td>\n",
              "      <td>6.0</td>\n",
              "      <td>2018.0</td>\n",
              "    </tr>\n",
              "    <tr>\n",
              "      <th>1</th>\n",
              "      <td>training</td>\n",
              "      <td>6</td>\n",
              "      <td>2019-03-01</td>\n",
              "      <td>0</td>\n",
              "      <td>1</td>\n",
              "      <td>52</td>\n",
              "      <td>-13</td>\n",
              "      <td>ag</td>\n",
              "      <td>1088</td>\n",
              "      <td>5</td>\n",
              "      <td>1</td>\n",
              "      <td>2</td>\n",
              "      <td>3</td>\n",
              "      <td>922</td>\n",
              "      <td>9</td>\n",
              "      <td>4</td>\n",
              "      <td>2019</td>\n",
              "      <td>166</td>\n",
              "      <td>0</td>\n",
              "      <td>1</td>\n",
              "      <td>52</td>\n",
              "      <td>-6</td>\n",
              "      <td>cpe</td>\n",
              "      <td>26.65</td>\n",
              "      <td>2018-12-03</td>\n",
              "      <td>3</td>\n",
              "      <td>-88.0</td>\n",
              "      <td>12.0</td>\n",
              "      <td>0.0</td>\n",
              "      <td>0.0</td>\n",
              "      <td>2018.0</td>\n",
              "    </tr>\n",
              "    <tr>\n",
              "      <th>2</th>\n",
              "      <td>training</td>\n",
              "      <td>5</td>\n",
              "      <td>2019-03-01</td>\n",
              "      <td>0</td>\n",
              "      <td>1</td>\n",
              "      <td>52</td>\n",
              "      <td>-13</td>\n",
              "      <td>ag</td>\n",
              "      <td>1088</td>\n",
              "      <td>5</td>\n",
              "      <td>1</td>\n",
              "      <td>2</td>\n",
              "      <td>3</td>\n",
              "      <td>922</td>\n",
              "      <td>9</td>\n",
              "      <td>4</td>\n",
              "      <td>2019</td>\n",
              "      <td>166</td>\n",
              "      <td>0</td>\n",
              "      <td>1</td>\n",
              "      <td>52</td>\n",
              "      <td>-6</td>\n",
              "      <td>cpe</td>\n",
              "      <td>26.65</td>\n",
              "      <td>2018-12-04</td>\n",
              "      <td>4</td>\n",
              "      <td>-87.0</td>\n",
              "      <td>12.0</td>\n",
              "      <td>1.0</td>\n",
              "      <td>1.0</td>\n",
              "      <td>2018.0</td>\n",
              "    </tr>\n",
              "    <tr>\n",
              "      <th>3</th>\n",
              "      <td>training</td>\n",
              "      <td>0</td>\n",
              "      <td>2019-03-01</td>\n",
              "      <td>0</td>\n",
              "      <td>1</td>\n",
              "      <td>52</td>\n",
              "      <td>-13</td>\n",
              "      <td>ag</td>\n",
              "      <td>1088</td>\n",
              "      <td>5</td>\n",
              "      <td>1</td>\n",
              "      <td>2</td>\n",
              "      <td>3</td>\n",
              "      <td>922</td>\n",
              "      <td>9</td>\n",
              "      <td>4</td>\n",
              "      <td>2019</td>\n",
              "      <td>166</td>\n",
              "      <td>0</td>\n",
              "      <td>1</td>\n",
              "      <td>52</td>\n",
              "      <td>-6</td>\n",
              "      <td>cpe</td>\n",
              "      <td>26.65</td>\n",
              "      <td>2018-12-05</td>\n",
              "      <td>5</td>\n",
              "      <td>-86.0</td>\n",
              "      <td>12.0</td>\n",
              "      <td>2.0</td>\n",
              "      <td>2.0</td>\n",
              "      <td>2018.0</td>\n",
              "    </tr>\n",
              "    <tr>\n",
              "      <th>4</th>\n",
              "      <td>training</td>\n",
              "      <td>0</td>\n",
              "      <td>2019-03-01</td>\n",
              "      <td>0</td>\n",
              "      <td>1</td>\n",
              "      <td>52</td>\n",
              "      <td>-13</td>\n",
              "      <td>ag</td>\n",
              "      <td>1088</td>\n",
              "      <td>5</td>\n",
              "      <td>1</td>\n",
              "      <td>2</td>\n",
              "      <td>3</td>\n",
              "      <td>922</td>\n",
              "      <td>9</td>\n",
              "      <td>4</td>\n",
              "      <td>2019</td>\n",
              "      <td>166</td>\n",
              "      <td>0</td>\n",
              "      <td>1</td>\n",
              "      <td>52</td>\n",
              "      <td>-6</td>\n",
              "      <td>cpe</td>\n",
              "      <td>26.65</td>\n",
              "      <td>2018-12-06</td>\n",
              "      <td>6</td>\n",
              "      <td>-85.0</td>\n",
              "      <td>12.0</td>\n",
              "      <td>3.0</td>\n",
              "      <td>3.0</td>\n",
              "      <td>2018.0</td>\n",
              "    </tr>\n",
              "  </tbody>\n",
              "</table>\n",
              "</div>"
            ],
            "text/plain": [
              "  dataset_type  demand departure_date  ...  sale_week  sale_weekday  sale_year\n",
              "0     training       1     2019-03-01  ...        6.0           6.0     2018.0\n",
              "1     training       6     2019-03-01  ...        0.0           0.0     2018.0\n",
              "2     training       5     2019-03-01  ...        1.0           1.0     2018.0\n",
              "3     training       0     2019-03-01  ...        2.0           2.0     2018.0\n",
              "4     training       0     2019-03-01  ...        3.0           3.0     2018.0\n",
              "\n",
              "[5 rows x 31 columns]"
            ]
          },
          "metadata": {},
          "execution_count": 6
        }
      ]
    },
    {
      "cell_type": "code",
      "metadata": {
        "colab": {
          "base_uri": "https://localhost:8080/"
        },
        "id": "Gpyo1Qa0uJH2",
        "outputId": "58851600-24ee-4af5-b9a7-a88924a0b5e0"
      },
      "source": [
        "df.describe\n"
      ],
      "execution_count": 7,
      "outputs": [
        {
          "output_type": "execute_result",
          "data": {
            "text/plain": [
              "<bound method NDFrame.describe of      dataset_type  demand departure_date  ...  sale_week  sale_weekday  sale_year\n",
              "0        training       1     2019-03-01  ...        6.0           6.0     2018.0\n",
              "1        training       6     2019-03-01  ...        0.0           0.0     2018.0\n",
              "2        training       5     2019-03-01  ...        1.0           1.0     2018.0\n",
              "3        training       0     2019-03-01  ...        2.0           2.0     2018.0\n",
              "4        training       0     2019-03-01  ...        3.0           3.0     2018.0\n",
              "...           ...     ...            ...  ...        ...           ...        ...\n",
              "7000     training       4     2019-03-05  ...        0.0           0.0     2019.0\n",
              "7001     training      15     2019-03-05  ...        1.0           1.0     2019.0\n",
              "7002     training       9     2019-03-05  ...        3.0           3.0     2019.0\n",
              "7003     training       2     2019-03-05  ...        4.0           4.0     2019.0\n",
              "7004     training       7     2019-03-05  ...        NaN           NaN        NaN\n",
              "\n",
              "[7005 rows x 31 columns]>"
            ]
          },
          "metadata": {},
          "execution_count": 7
        }
      ]
    },
    {
      "cell_type": "code",
      "metadata": {
        "colab": {
          "base_uri": "https://localhost:8080/"
        },
        "id": "9L_kxm2OSosL",
        "outputId": "b13b5b3d-66c0-467f-f2f6-3e0307d7a300"
      },
      "source": [
        "df.dtypes"
      ],
      "execution_count": 8,
      "outputs": [
        {
          "output_type": "execute_result",
          "data": {
            "text/plain": [
              "dataset_type                                object\n",
              "demand                                       int64\n",
              "departure_date                              object\n",
              "destination_current_public_holiday           int64\n",
              "destination_current_school_holiday           int64\n",
              "destination_days_to_next_public_holiday      int64\n",
              "destination_days_to_next_school_holiday      int64\n",
              "destination_station_name                    object\n",
              "od_destination_time                          int64\n",
              "od_number_of_similar_12_hours                int64\n",
              "od_number_of_similar_2_hours                 int64\n",
              "od_number_of_similar_4_hours                 int64\n",
              "od_origin_month                              int64\n",
              "od_origin_time                               int64\n",
              "od_origin_week                               int64\n",
              "od_origin_weekday                            int64\n",
              "od_origin_year                               int64\n",
              "od_travel_time_minutes                       int64\n",
              "origin_current_public_holiday                int64\n",
              "origin_current_school_holiday                int64\n",
              "origin_days_to_next_public_holiday           int64\n",
              "origin_days_to_next_school_holiday           int64\n",
              "origin_station_name                         object\n",
              "price                                      float64\n",
              "sale_date                                   object\n",
              "sale_day                                     int64\n",
              "sale_day_x                                 float64\n",
              "sale_month                                 float64\n",
              "sale_week                                  float64\n",
              "sale_weekday                               float64\n",
              "sale_year                                  float64\n",
              "dtype: object"
            ]
          },
          "metadata": {},
          "execution_count": 8
        }
      ]
    },
    {
      "cell_type": "code",
      "metadata": {
        "colab": {
          "base_uri": "https://localhost:8080/"
        },
        "id": "ug2P61QiNwWg",
        "outputId": "4ab3adae-256f-45cd-b0b9-5d6d2916aec6"
      },
      "source": [
        "filter=df['dataset_type']=='training'\n",
        "  \n",
        "# filtering data\n",
        "df.where(filter).count()\n"
      ],
      "execution_count": 9,
      "outputs": [
        {
          "output_type": "execute_result",
          "data": {
            "text/plain": [
              "dataset_type                               7005\n",
              "demand                                     7005\n",
              "departure_date                             7005\n",
              "destination_current_public_holiday         7005\n",
              "destination_current_school_holiday         7005\n",
              "destination_days_to_next_public_holiday    7005\n",
              "destination_days_to_next_school_holiday    7005\n",
              "destination_station_name                   7005\n",
              "od_destination_time                        7005\n",
              "od_number_of_similar_12_hours              7005\n",
              "od_number_of_similar_2_hours               7005\n",
              "od_number_of_similar_4_hours               7005\n",
              "od_origin_month                            7005\n",
              "od_origin_time                             7005\n",
              "od_origin_week                             7005\n",
              "od_origin_weekday                          7005\n",
              "od_origin_year                             7005\n",
              "od_travel_time_minutes                     7005\n",
              "origin_current_public_holiday              7005\n",
              "origin_current_school_holiday              7005\n",
              "origin_days_to_next_public_holiday         7005\n",
              "origin_days_to_next_school_holiday         7005\n",
              "origin_station_name                        7005\n",
              "price                                      7005\n",
              "sale_date                                  7005\n",
              "sale_day                                   7005\n",
              "sale_day_x                                 7004\n",
              "sale_month                                 7004\n",
              "sale_week                                  7004\n",
              "sale_weekday                               7004\n",
              "sale_year                                  7004\n",
              "dtype: int64"
            ]
          },
          "metadata": {},
          "execution_count": 9
        }
      ]
    },
    {
      "cell_type": "code",
      "metadata": {
        "colab": {
          "base_uri": "https://localhost:8080/"
        },
        "id": "RR5THWgQRKFC",
        "outputId": "9e770af8-9ba8-4de9-c720-3d66ed2b23db"
      },
      "source": [
        "df.isnull().sum()\n"
      ],
      "execution_count": 10,
      "outputs": [
        {
          "output_type": "execute_result",
          "data": {
            "text/plain": [
              "dataset_type                               0\n",
              "demand                                     0\n",
              "departure_date                             0\n",
              "destination_current_public_holiday         0\n",
              "destination_current_school_holiday         0\n",
              "destination_days_to_next_public_holiday    0\n",
              "destination_days_to_next_school_holiday    0\n",
              "destination_station_name                   0\n",
              "od_destination_time                        0\n",
              "od_number_of_similar_12_hours              0\n",
              "od_number_of_similar_2_hours               0\n",
              "od_number_of_similar_4_hours               0\n",
              "od_origin_month                            0\n",
              "od_origin_time                             0\n",
              "od_origin_week                             0\n",
              "od_origin_weekday                          0\n",
              "od_origin_year                             0\n",
              "od_travel_time_minutes                     0\n",
              "origin_current_public_holiday              0\n",
              "origin_current_school_holiday              0\n",
              "origin_days_to_next_public_holiday         0\n",
              "origin_days_to_next_school_holiday         0\n",
              "origin_station_name                        0\n",
              "price                                      0\n",
              "sale_date                                  0\n",
              "sale_day                                   0\n",
              "sale_day_x                                 1\n",
              "sale_month                                 1\n",
              "sale_week                                  1\n",
              "sale_weekday                               1\n",
              "sale_year                                  1\n",
              "dtype: int64"
            ]
          },
          "metadata": {},
          "execution_count": 10
        }
      ]
    },
    {
      "cell_type": "code",
      "metadata": {
        "colab": {
          "base_uri": "https://localhost:8080/",
          "height": 682
        },
        "id": "q-OqQvaSHQo6",
        "outputId": "69745a57-7874-444b-a270-a8e1190e9c60"
      },
      "source": [
        "plt.figure(figsize=(20, 10))\n",
        "sns.distplot(a=df['price'])\n",
        "plt.xlabel('Price', fontsize=15)\n",
        "plt.title('Distribution of Ticket Price', fontsize=15)\n",
        "\n",
        "plt.show()"
      ],
      "execution_count": 11,
      "outputs": [
        {
          "output_type": "stream",
          "name": "stderr",
          "text": [
            "/usr/local/lib/python3.7/dist-packages/seaborn/distributions.py:2619: FutureWarning: `distplot` is a deprecated function and will be removed in a future version. Please adapt your code to use either `displot` (a figure-level function with similar flexibility) or `histplot` (an axes-level function for histograms).\n",
            "  warnings.warn(msg, FutureWarning)\n"
          ]
        },
        {
          "output_type": "display_data",
          "data": {
            "image/png": "[encoded data removed]",
            "text/plain": [
              "<Figure size 1440x720 with 1 Axes>"
            ]
          },
          "metadata": {
            "needs_background": "light"
          }
        }
      ]
    },
    {
      "cell_type": "code",
      "metadata": {
        "colab": {
          "base_uri": "https://localhost:8080/",
          "height": 621
        },
        "id": "a4_Q52a1jTnx",
        "outputId": "0c211a72-89b2-4aa9-c34d-ad8cfa5162bc"
      },
      "source": [
        "plt.figure(figsize = (15, 10))\n",
        "plt.title('Count of sales week wise')\n",
        "ax=sns.countplot(x = 'od_origin_week', data = df)\n",
        "plt.xlabel('week')\n",
        "plt.ylabel('Count of train ticket sales')\n",
        "for p in ax.patches:\n",
        "    ax.annotate(int(p.get_height()), (p.get_x()+0.25, p.get_height()+1), va='bottom',\n",
        "                    color= 'black')"
      ],
      "execution_count": 12,
      "outputs": [
        {
          "output_type": "display_data",
          "data": {
            "image/png": "[encoded data removed]",
            "text/plain": [
              "<Figure size 1080x720 with 1 Axes>"
            ]
          },
          "metadata": {
            "needs_background": "light"
          }
        }
      ]
    },
    {
      "cell_type": "code",
      "metadata": {
        "colab": {
          "base_uri": "https://localhost:8080/",
          "height": 621
        },
        "id": "QPyen1A6jvjK",
        "outputId": "e9f1e472-0105-4116-dc8c-ce85220e0114"
      },
      "source": [
        "plt.figure(figsize = (20, 10))\n",
        "plt.title('Count of sales  weekday wise')\n",
        "ax=sns.countplot(x = 'od_origin_weekday', data = df)\n",
        "plt.xlabel('weekday')\n",
        "plt.ylabel('Count of train ticket sales ')\n",
        "for p in ax.patches:\n",
        "    ax.annotate(int(p.get_height()), (p.get_x()+0.25, p.get_height()+1), va='bottom',\n",
        "                    color= 'black')"
      ],
      "execution_count": 13,
      "outputs": [
        {
          "output_type": "display_data",
          "data": {
            "image/png": "[encoded data removed]",
            "text/plain": [
              "<Figure size 1440x720 with 1 Axes>"
            ]
          },
          "metadata": {
            "needs_background": "light"
          }
        }
      ]
    },
    {
      "cell_type": "code",
      "metadata": {
        "colab": {
          "base_uri": "https://localhost:8080/",
          "height": 621
        },
        "id": "Sa5e9sfwmr93",
        "outputId": "5c7e2334-957e-4a27-e3b4-2a9aa58363f8"
      },
      "source": [
        "plt.figure(figsize = (20, 10))\n",
        "plt.title('Count of sales weekday wise')\n",
        "ax=sns.countplot(x = 'od_number_of_similar_2_hours', data = df)\n",
        "plt.xlabel('Number of trains offering the same origin-destination in a 2 hours interval ')\n",
        "plt.ylabel('Count of departures')\n",
        "for p in ax.patches:\n",
        "    ax.annotate(int(p.get_height()), (p.get_x()+0.25, p.get_height()+1), va='bottom',\n",
        "                    color= 'black')"
      ],
      "execution_count": 14,
      "outputs": [
        {
          "output_type": "display_data",
          "data": {
            "image/png": "[encoded data removed]",
            "text/plain": [
              "<Figure size 1440x720 with 1 Axes>"
            ]
          },
          "metadata": {
            "needs_background": "light"
          }
        }
      ]
    },
    {
      "cell_type": "code",
      "metadata": {
        "colab": {
          "base_uri": "https://localhost:8080/",
          "height": 621
        },
        "id": "uFrKUXfJkWpQ",
        "outputId": "2e33876f-27fa-4cc7-c083-ad0c7e0d0ec3"
      },
      "source": [
        "plt.figure(figsize = (20, 10))\n",
        "plt.title('Count of sales weekday wise')\n",
        "ax=sns.countplot(x = 'od_number_of_similar_4_hours', data = df)\n",
        "plt.xlabel('Number of trains offering the same origin-destination in a 4 hours interval ')\n",
        "plt.ylabel('Count of departures')\n",
        "for p in ax.patches:\n",
        "    ax.annotate(int(p.get_height()), (p.get_x()+0.25, p.get_height()+1), va='bottom',\n",
        "                    color= 'black')"
      ],
      "execution_count": 15,
      "outputs": [
        {
          "output_type": "display_data",
          "data": {
            "image/png": "[encoded data removed]",
            "text/plain": [
              "<Figure size 1440x720 with 1 Axes>"
            ]
          },
          "metadata": {
            "needs_background": "light"
          }
        }
      ]
    },
    {
      "cell_type": "code",
      "metadata": {
        "colab": {
          "base_uri": "https://localhost:8080/",
          "height": 621
        },
        "id": "Z6HnUa3amg_J",
        "outputId": "01b30002-62eb-4e4a-c09d-e67f86b36379"
      },
      "source": [
        "plt.figure(figsize = (20, 10))\n",
        "plt.title('Count of sales weekday wise')\n",
        "ax=sns.countplot(x = 'od_number_of_similar_12_hours', data = df)\n",
        "plt.xlabel('Number of trains offering the same origin-destination in a 12 hours interval ')\n",
        "plt.ylabel('Count of departures')\n",
        "for p in ax.patches:\n",
        "    ax.annotate(int(p.get_height()), (p.get_x()+0.25, p.get_height()+1), va='bottom',\n",
        "                    color= 'black')"
      ],
      "execution_count": 16,
      "outputs": [
        {
          "output_type": "display_data",
          "data": {
            "image/png": "[encoded data removed]",
            "text/plain": [
              "<Figure size 1440x720 with 1 Axes>"
            ]
          },
          "metadata": {
            "needs_background": "light"
          }
        }
      ]
    },
    {
      "cell_type": "code",
      "metadata": {
        "colab": {
          "base_uri": "https://localhost:8080/",
          "height": 621
        },
        "id": "Dx3xt1DbnPVA",
        "outputId": "d4c44033-0da7-4142-9fd9-7f9333d4cde7"
      },
      "source": [
        "plt.figure(figsize = (15, 10))\n",
        "plt.title('Count of sales sale day wise')\n",
        "ax=sns.countplot(x = 'sale_day', data = df)\n",
        "plt.xlabel(' sale day')\n",
        "plt.ylabel('Count of train ticket sales')\n",
        "for p in ax.patches:\n",
        "    ax.annotate(int(p.get_height()), (p.get_x()+0.25, p.get_height()+1), va='bottom',\n",
        "                    color= 'black')"
      ],
      "execution_count": 17,
      "outputs": [
        {
          "output_type": "display_data",
          "data": {
            "image/png": "[encoded data removed]",
            "text/plain": [
              "<Figure size 1080x720 with 1 Axes>"
            ]
          },
          "metadata": {
            "needs_background": "light"
          }
        }
      ]
    },
    {
      "cell_type": "code",
      "metadata": {
        "colab": {
          "base_uri": "https://localhost:8080/",
          "height": 621
        },
        "id": "3aKK6FSBndrh",
        "outputId": "93a90fad-4f44-4fb9-8c9d-ccdd488dce86"
      },
      "source": [
        "plt.figure(figsize = (15, 10))\n",
        "plt.title('Count of sales sale day wise')\n",
        "ax=sns.countplot(x = 'sale_month', data = df)\n",
        "plt.xlabel(' sale month ')\n",
        "plt.ylabel('Count of train ticket sales')\n",
        "for p in ax.patches:\n",
        "    ax.annotate(int(p.get_height()), (p.get_x()+0.25, p.get_height()+1), va='bottom',\n",
        "                    color= 'black')"
      ],
      "execution_count": 18,
      "outputs": [
        {
          "output_type": "display_data",
          "data": {
            "image/png": "[encoded data removed]",
            "text/plain": [
              "<Figure size 1080x720 with 1 Axes>"
            ]
          },
          "metadata": {
            "needs_background": "light"
          }
        }
      ]
    },
    {
      "cell_type": "code",
      "metadata": {
        "colab": {
          "base_uri": "https://localhost:8080/",
          "height": 621
        },
        "id": "jDm1zXEdoIG2",
        "outputId": "bd63bf4d-d149-4c6f-a571-4af8192078a8"
      },
      "source": [
        "plt.figure(figsize = (15, 10))\n",
        "plt.title('Count of sales sale day wise')\n",
        "ax=sns.countplot(x = 'sale_week', data = df)\n",
        "plt.xlabel(' sale month ')\n",
        "plt.ylabel('Count of train ticket sales')\n",
        "for p in ax.patches:\n",
        "    ax.annotate(int(p.get_height()), (p.get_x()+0.25, p.get_height()+1), va='bottom',\n",
        "                    color= 'black')"
      ],
      "execution_count": 19,
      "outputs": [
        {
          "output_type": "display_data",
          "data": {
            "image/png": "[encoded data removed]",
            "text/plain": [
              "<Figure size 1080x720 with 1 Axes>"
            ]
          },
          "metadata": {
            "needs_background": "light"
          }
        }
      ]
    },
    {
      "cell_type": "code",
      "metadata": {
        "colab": {
          "base_uri": "https://localhost:8080/",
          "height": 412
        },
        "id": "Xia9wixlJw7G",
        "outputId": "d0a3bac1-6ef2-4172-c528-d7e2b0f1dc90"
      },
      "source": [
        "plt.figure(figsize=(20, 6))\n",
        "sns.boxplot(x='destination_days_to_next_public_holiday', y='price', data=df)\n",
        "plt.title('Relationship of  destination_days_to_next_public_holiday & Price', fontsize=15)\n",
        "plt.xlabel(' destination_days_to_next_public_holiday', fontsize=15)\n",
        "plt.ylabel('Price', fontsize=15)\n",
        "\n",
        "plt.show()"
      ],
      "execution_count": 20,
      "outputs": [
        {
          "output_type": "display_data",
          "data": {
            "image/png": "[encoded data removed]",
            "text/plain": [
              "<Figure size 1440x432 with 1 Axes>"
            ]
          },
          "metadata": {
            "needs_background": "light"
          }
        }
      ]
    },
    {
      "cell_type": "code",
      "metadata": {
        "id": "TWfcn3wqKAaN"
      },
      "source": [
        "\n",
        "\n",
        "plt.figure(figsize=(40, 20))\n",
        "\n",
        "\n",
        "sns.set_theme(style=\"whitegrid\", palette=\"muted\")\n",
        "\n",
        "\n",
        "\n",
        "# Draw a categorical scatterplot to show each observation\n",
        "ax = sns.swarmplot(data=df, x=\"demand\", y=\"price\", hue=\"destination_current_school_holiday\")\n",
        "ax.set(ylabel=\"\")\n",
        "\n",
        "plt.show()"
      ],
      "execution_count": null,
      "outputs": []
    },
    {
      "cell_type": "code",
      "metadata": {
        "id": "ZMOqiOUWPWdn"
      },
      "source": [
        "num_cols = df._get_numeric_data().columns\n",
        "col_cat=list(set(df.columns)-set(num_cols))\n",
        "print(num_cols)\n",
        "print(col_cat)"
      ],
      "execution_count": null,
      "outputs": []
    },
    {
      "cell_type": "code",
      "metadata": {
        "id": "yLF3GjkcTZwx"
      },
      "source": [
        ""
      ],
      "execution_count": null,
      "outputs": []
    },
    {
      "cell_type": "code",
      "metadata": {
        "id": "c7DA3WITPqwt"
      },
      "source": [
        "df['destination_current_school_holiday']"
      ],
      "execution_count": null,
      "outputs": []
    },
    {
      "cell_type": "code",
      "metadata": {
        "id": "ooT8d32bZALs"
      },
      "source": [
        "df.demand.describe()"
      ],
      "execution_count": null,
      "outputs": []
    },
    {
      "cell_type": "code",
      "metadata": {
        "id": "QKbGsQyvZS4G"
      },
      "source": [
        "sns.distplot(df.demand, kde=False, rug=True)\n"
      ],
      "execution_count": null,
      "outputs": []
    },
    {
      "cell_type": "code",
      "metadata": {
        "id": "SuWX16vqupHW"
      },
      "source": [
        "\n",
        "#@title\n",
        "\n",
        "fig=plt.figure(figsize=(20,20))\n",
        "sns.heatmap(df.corr(),center=True)\n",
        "fig.savefig('multivariateanalysis.png', transparent=False)"
      ],
      "execution_count": null,
      "outputs": []
    },
    {
      "cell_type": "code",
      "metadata": {
        "id": "grNm-mCmZ285"
      },
      "source": [
        "df_clean=df\n",
        "df_clean['date_time'] = pd.to_datetime(df_clean['departure_date'])\n",
        "df_clean['day'] = df_clean['date_time'].apply(lambda x: x.strftime('%Y-%m-%d'))\n",
        "df_clean['hour'] = df_clean['date_time'].apply(lambda x: x.hour)\n",
        "df_clean['day_name'] = df_clean['date_time'].apply(lambda y: y.dayofweek)\n",
        "df_clean['week'] = df_clean['date_time'].apply(lambda y: y.week)\n",
        "df_clean['year'] = df_clean['date_time'].apply(lambda y: y.year)"
      ],
      "execution_count": null,
      "outputs": []
    },
    {
      "cell_type": "code",
      "metadata": {
        "id": "yqe6JdCyiI4Z"
      },
      "source": [
        "df_clean['date_time_sale'] = pd.to_datetime(df_clean['sale_date'])\n",
        "df_clean['day_sale'] = df_clean['date_time_sale'].apply(lambda x: x.strftime('%Y-%m-%d'))\n",
        "df_clean['hour_sale'] = df_clean['date_time_sale'].apply(lambda x: x.hour)\n",
        "df_clean['day_name_sale'] = df_clean['date_time_sale'].apply(lambda y: y.dayofweek)\n",
        "df_clean['week_sale'] = df_clean['date_time_sale'].apply(lambda y: y.week)\n",
        "df_clean['year_sale'] = df_clean['date_time_sale'].apply(lambda y: y.year)"
      ],
      "execution_count": null,
      "outputs": []
    },
    {
      "cell_type": "code",
      "metadata": {
        "id": "klSKG_hFiRmA"
      },
      "source": [
        "df_clean.columns"
      ],
      "execution_count": null,
      "outputs": []
    },
    {
      "cell_type": "code",
      "metadata": {
        "id": "I21GhbLlbf2M"
      },
      "source": [
        "df['index']=df.index"
      ],
      "execution_count": null,
      "outputs": []
    },
    {
      "cell_type": "code",
      "metadata": {
        "id": "yQmm7EupcjGg"
      },
      "source": [
        "df_clean.head(200)"
      ],
      "execution_count": null,
      "outputs": []
    },
    {
      "cell_type": "code",
      "metadata": {
        "id": "M6Xrxn4_azoZ"
      },
      "source": [
        "\n",
        "plt.figure(figsize=(40, 6)) \n",
        "plt.xticks(\n",
        "    rotation=45, \n",
        "    horizontalalignment='right',\n",
        "    fontweight='light',\n",
        "    fontsize='small')\n",
        "\n",
        "demand_by_hour = df_clean[['index','hour','day_name']].groupby(['day_name','hour']).count() \n",
        "demand_by_hour = demand_by_hour.reset_index()\n",
        "\n",
        "demand_by_hour['hour_str'] = demand_by_hour.hour.map(str)\n",
        "demand_by_hour['hour_str'] = demand_by_hour['hour_str'].str.zfill(2)\n",
        "\n",
        "demand_by_hour['dow_h'] = demand_by_hour.day_name.map(str)+'-'+demand_by_hour.hour_str\n",
        "sns.lineplot(x = 'dow_h',y = 'index', data=demand_by_hour)"
      ],
      "execution_count": null,
      "outputs": []
    },
    {
      "cell_type": "code",
      "metadata": {
        "id": "i2P7lhImcBWA"
      },
      "source": [
        "df_clean['day']"
      ],
      "execution_count": null,
      "outputs": []
    },
    {
      "cell_type": "code",
      "metadata": {
        "id": "W26ykkgebw73"
      },
      "source": [
        "plt.figure(figsize=(40, 6)) \n",
        "plt.xticks(\n",
        "    rotation=45, \n",
        "    horizontalalignment='right',\n",
        "    fontweight='light',\n",
        "    fontsize='small')\n",
        "plt.gca().xaxis.grid(True)\n",
        "\n",
        "\n",
        "demand_by_day = df_clean[['day','demand','index']].groupby(['day']).sum() \n",
        "demand_by_day = demand_by_day.reset_index()\n",
        "sns.lineplot(x = 'day',y = 'demand', data=demand_by_day)"
      ],
      "execution_count": null,
      "outputs": []
    },
    {
      "cell_type": "code",
      "metadata": {
        "id": "cwW4zraUjb3V"
      },
      "source": [
        "plt.figure(figsize=(40, 6)) \n",
        "plt.xticks(\n",
        "    rotation=45, \n",
        "    horizontalalignment='right',\n",
        "    fontweight='light',\n",
        "    fontsize='small')\n",
        "plt.gca().xaxis.grid(True)\n",
        "\n",
        "\n",
        "demand_by_day = df_clean[['day_sale','demand','index']].groupby(['day_sale']).mean() #makes sense\n",
        "demand_by_day = demand_by_day.reset_index()\n",
        "sns.lineplot(x = 'day_sale',y = 'demand', data=demand_by_day)"
      ],
      "execution_count": null,
      "outputs": []
    },
    {
      "cell_type": "code",
      "metadata": {
        "id": "3axOU16VCgFF"
      },
      "source": [
        "plt.figure(figsize=(40, 6)) \n",
        "plt.xticks(\n",
        "    rotation=45, \n",
        "    horizontalalignment='right',\n",
        "    fontweight='light',\n",
        "    fontsize='small')\n",
        "plt.gca().xaxis.grid(True)\n",
        "\n",
        "\n",
        "demand_by_day = df_clean[['od_travel_time_minutes','demand','index']].groupby(['od_travel_time_minutes']).sum() #makes sense\n",
        "demand_by_day = demand_by_day.reset_index()\n",
        "sns.lineplot(x = 'od_travel_time_minutes',y = 'demand', data=demand_by_day)"
      ],
      "execution_count": null,
      "outputs": []
    },
    {
      "cell_type": "code",
      "metadata": {
        "id": "tzLw0ZKgj9pY"
      },
      "source": [
        "plt.figure(figsize=(40, 6)) \n",
        "plt.xticks(\n",
        "    rotation=45, \n",
        "    horizontalalignment='right',\n",
        "    fontweight='light',\n",
        "    fontsize='small')\n",
        "plt.gca().xaxis.grid(True)\n",
        "\n",
        "\n",
        "demand_by_day = df_clean[['sale_day_x','demand','index']].groupby(['sale_day_x']).mean()#makes sense\n",
        "demand_by_day = demand_by_day.reset_index()\n",
        "sns.lineplot(x = 'sale_day_x',y = 'demand', data=demand_by_day)"
      ],
      "execution_count": null,
      "outputs": []
    },
    {
      "cell_type": "code",
      "metadata": {
        "id": "UdhYGifRvkic"
      },
      "source": [
        "df_clean['price'].max()"
      ],
      "execution_count": null,
      "outputs": []
    },
    {
      "cell_type": "code",
      "metadata": {
        "id": "TCMrg9KSartb"
      },
      "source": [
        "plt.figure(figsize=(40, 6)) \n",
        "plt.xticks(\n",
        "    rotation=45, \n",
        "    horizontalalignment='right',\n",
        "    fontweight='light',\n",
        "    fontsize='small')\n",
        "plt.gca().xaxis.grid(True)\n",
        "\n",
        "\n",
        "demand_by_day = df_clean[['price','demand','index']].groupby(['price']).sum() #makes sense\n",
        "demand_by_day = demand_by_day.reset_index()\n",
        "sns.lineplot(x = 'price',y = 'demand', data=demand_by_day)"
      ],
      "execution_count": null,
      "outputs": []
    },
    {
      "cell_type": "code",
      "metadata": {
        "id": "ji4Bvj1uuo-l"
      },
      "source": [
        "plt.figure(figsize=(40, 6)) \n",
        "plt.xticks(\n",
        "    rotation=45, \n",
        "    horizontalalignment='right',\n",
        "    fontweight='light',\n",
        "    fontsize='small')\n",
        "plt.gca().xaxis.grid(True)\n",
        "\n",
        "\n",
        "demand_by_day = df_clean[['od_number_of_similar_2_hours','demand','index','day_sale']].groupby(['od_number_of_similar_2_hours','day_sale']).sum() #makes sense\n",
        "demand_by_day = demand_by_day.reset_index()\n",
        "sns.lineplot(x = 'od_number_of_similar_2_hours',y = 'demand', data=demand_by_day)"
      ],
      "execution_count": null,
      "outputs": []
    },
    {
      "cell_type": "code",
      "metadata": {
        "id": "pdGD0uMqs7M5"
      },
      "source": [
        "plt.figure(figsize=(40, 6)) \n",
        "plt.xticks(\n",
        "    rotation=45, \n",
        "    horizontalalignment='right',\n",
        "    fontweight='light',\n",
        "    fontsize='small')\n",
        "plt.gca().xaxis.grid(True)\n",
        "\n",
        "demand_by_day = df_clean[['sale_day_x','demand','index','price']].groupby(['sale_day_x','price']).mean()#kind a makes sense\n",
        "demand_by_day = demand_by_day.reset_index()\n",
        "sns.lineplot(x = 'sale_day_x',y = 'price', data=demand_by_day)"
      ],
      "execution_count": null,
      "outputs": []
    },
    {
      "cell_type": "code",
      "metadata": {
        "id": "37cT-28xDn96"
      },
      "source": [
        "plt.figure(figsize=(40, 6)) \n",
        "plt.xticks(\n",
        "    rotation=45, \n",
        "    horizontalalignment='right',\n",
        "    fontweight='light',\n",
        "    fontsize='small')\n",
        "plt.gca().xaxis.grid(True)\n",
        "\n",
        "demand_by_day = df_clean[['origin_days_to_next_school_holiday','demand','index','price']].groupby(['origin_days_to_next_school_holiday']).mean()#kind a makes sense\n",
        "demand_by_day = demand_by_day.reset_index()\n",
        "sns.lineplot(x = 'origin_days_to_next_school_holiday',y = 'demand', data=demand_by_day)\n",
        "\n"
      ],
      "execution_count": null,
      "outputs": []
    },
    {
      "cell_type": "code",
      "metadata": {
        "id": "G-X3jZahGuos"
      },
      "source": [
        "plt.figure(figsize=(40, 6)) \n",
        "plt.xticks(\n",
        "    rotation=45, \n",
        "    horizontalalignment='right',\n",
        "    fontweight='light',\n",
        "    fontsize='small')\n",
        "plt.gca().xaxis.grid(True)\n",
        "\n",
        "demand_by_day = df_clean[['origin_days_to_next_school_holiday','demand','index','price']].groupby(['origin_days_to_next_school_holiday','price']).mean()#kind a makes sense\n",
        "demand_by_day = demand_by_day.reset_index()\n",
        "sns.lineplot(x = 'origin_days_to_next_school_holiday',y = 'price', data=demand_by_day)\n",
        "\n"
      ],
      "execution_count": null,
      "outputs": []
    },
    {
      "cell_type": "code",
      "metadata": {
        "id": "XOb08ShiOCoP"
      },
      "source": [
        "plt.figure(figsize=(40, 6)) \n",
        "plt.xticks(\n",
        "    rotation=45, \n",
        "    horizontalalignment='right',\n",
        "    fontweight='light',\n",
        "    fontsize='small')\n",
        "plt.gca().xaxis.grid(True)\n",
        "\n",
        "demand_by_day = df_clean[['destination_days_to_next_public_holiday','demand','index','price']].groupby(['destination_days_to_next_public_holiday','price']).sum()#kind a makes sense\n",
        "demand_by_day = demand_by_day.reset_index()\n",
        "sns.lineplot(x = 'destination_days_to_next_public_holiday',y = 'price', data=demand_by_day)\n",
        "\n"
      ],
      "execution_count": null,
      "outputs": []
    },
    {
      "cell_type": "code",
      "metadata": {
        "id": "S37KcUn3OP8P"
      },
      "source": [
        "plt.figure(figsize=(40, 6)) \n",
        "plt.xticks(\n",
        "    rotation=45, \n",
        "    horizontalalignment='right',\n",
        "    fontweight='light',\n",
        "    fontsize='small')\n",
        "plt.gca().xaxis.grid(True)\n",
        "\n",
        "demand_by_day = df_clean[['destination_days_to_next_public_holiday','demand','index','price']].groupby(['destination_days_to_next_public_holiday']).sum()#kind a makes sense\n",
        "demand_by_day = demand_by_day.reset_index()\n",
        "sns.lineplot(x = 'destination_days_to_next_public_holiday',y = 'demand', data=demand_by_day)\n",
        "\n"
      ],
      "execution_count": null,
      "outputs": []
    },
    {
      "cell_type": "code",
      "metadata": {
        "id": "-MoO9J_11rNs"
      },
      "source": [
        "df.columns"
      ],
      "execution_count": null,
      "outputs": []
    },
    {
      "cell_type": "code",
      "metadata": {
        "id": "nn-cz84-ERJh"
      },
      "source": [
        "df[df[\"destination_current_public_holiday\"]==1].count()"
      ],
      "execution_count": null,
      "outputs": []
    },
    {
      "cell_type": "code",
      "metadata": {
        "id": "J7-j7T0lEnRy"
      },
      "source": [
        "df[df[\"origin_current_public_holiday\"]==1].count()"
      ],
      "execution_count": null,
      "outputs": []
    },
    {
      "cell_type": "code",
      "metadata": {
        "id": "smXWOyxUEwej"
      },
      "source": [
        "\n",
        "df[df[\"origin_days_to_next_school_holiday\"]].count()\n"
      ],
      "execution_count": null,
      "outputs": []
    },
    {
      "cell_type": "code",
      "metadata": {
        "id": "rQYc5hj31pXZ"
      },
      "source": [
        "plt.figure(figsize=(40, 40)) \n",
        "\n",
        "\n",
        "sns.set_theme(style=\"whitegrid\", palette=\"muted\")\n",
        "\n",
        "# Draw a categorical scatterplot to show each observation\n",
        "ax = sns.swarmplot(data=df, x=\"sale_day_x\", y=\"demand\", hue=\"destination_current_public_holiday\")\n",
        "ax.set(ylabel=\"\")"
      ],
      "execution_count": null,
      "outputs": []
    },
    {
      "cell_type": "code",
      "metadata": {
        "id": "7vKDCbp5Qdd3"
      },
      "source": [
        ""
      ],
      "execution_count": null,
      "outputs": []
    },
    {
      "cell_type": "code",
      "metadata": {
        "id": "AwKFjAkE4ZD2"
      },
      "source": [
        "#très moyen \n",
        "fig = plt.figure(figsize=(10,5))\n",
        "ax = fig.subplots(1,1)\n",
        "ax.scatter(df_clean['price'], df_clean['demand'])\n",
        "plt.title(\"Demand vs Price\")\n",
        "plt.ylabel(\"Demand\")\n",
        "plt.xlabel(\"Price\");"
      ],
      "execution_count": null,
      "outputs": []
    },
    {
      "cell_type": "code",
      "metadata": {
        "id": "7TsYglxRWhdk",
        "cellView": "form"
      },
      "source": [
        "#@title\n",
        "\n",
        "plt.style.use('fivethirtyeight')\n",
        "plt.style.use('dark_background')\n",
        "import seaborn as sns\n",
        "import plotly.express as px\n",
        "import plotly.graph_objects as go\n",
        "from plotly.subplots import make_subplots\n",
        "import matplotlib.pyplot as plt\n",
        "\n",
        "\n",
        "#Pie plots \n",
        "fig = plt.figure(figsize=(16, 8))\n",
        "\n",
        "for col in col_cat:\n",
        "    ax=px.pie(df, names= col ,template= \"plotly_dark\",title=col,hole=0.7)\n",
        "    ax.show()\n",
        " \n",
        "fig.savefig('catdata.png', transparent=True)\n",
        "plt.show()"
      ],
      "execution_count": null,
      "outputs": []
    },
    {
      "cell_type": "code",
      "metadata": {
        "id": "GZd1NVLFX5Cl"
      },
      "source": [
        ""
      ],
      "execution_count": null,
      "outputs": []
    },
    {
      "cell_type": "code",
      "metadata": {
        "id": "CeYGkV2xX9B7"
      },
      "source": [
        ""
      ],
      "execution_count": null,
      "outputs": []
    }
  ]
}